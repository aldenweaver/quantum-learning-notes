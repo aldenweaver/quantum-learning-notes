{
 "cells": [
  {
   "cell_type": "code",
   "execution_count": 20,
   "id": "c98bdb9a-d9f4-4aed-9872-76940a4e5ff8",
   "metadata": {
    "tags": []
   },
   "outputs": [
    {
     "data": {
      "image/png": "[encoded data removed]",
      "text/plain": [
       "<Figure size 162.08x367.889 with 1 Axes>"
      ]
     },
     "execution_count": 20,
     "metadata": {},
     "output_type": "execute_result"
    }
   ],
   "source": [
    "from qiskit import QuantumCircuit\n",
    "\n",
    "# Create quantum circuit with 3 qubits & 3 classical bits\n",
    "\n",
    "qc = QuantumCircuit(3,3)\n",
    "qc.draw() # Return a visual drawing of the circuit"
   ]
  },
  {
   "cell_type": "code",
   "execution_count": 6,
   "id": "4fbc6300-a788-4db6-bc56-549e9d9d6ba1",
   "metadata": {
    "tags": []
   },
   "outputs": [
    {
     "data": {
      "image/png": "[encoded data removed]",
      "text/plain": [
       "<Figure size 371.107x367.889 with 1 Axes>"
      ]
     },
     "execution_count": 6,
     "metadata": {},
     "output_type": "execute_result"
    }
   ],
   "source": [
    "from qiskit import QuantumCircuit\n",
    "\n",
    "# Create quantum circuit with 3 qubits & 3 classical bits\n",
    "\n",
    "qc = QuantumCircuit(3,3)\n",
    "\n",
    "# Measure qubits 0, 1, & 2 to classical bits 0, 1, & 2 respectively\n",
    "qc.measure([0,1,2], [0,1,2])\n",
    "\n",
    "qc.draw() # Return a visual drawing of the circuit"
   ]
  },
  {
   "cell_type": "code",
   "execution_count": 4,
   "id": "c701ccc0-1f7e-4bf3-bdd8-7fc41cdd24e6",
   "metadata": {
    "tags": []
   },
   "outputs": [],
   "source": [
    "from qiskit_aer import AerSimulator # pylint: disable=import-err\n",
    "sim = AerSimulator() # make new simulator object"
   ]
  },
  {
   "cell_type": "code",
   "execution_count": 7,
   "id": "c1bd4a16-3bf7-4c0a-bc59-6db941544648",
   "metadata": {
    "tags": []
   },
   "outputs": [
    {
     "data": {
      "text/plain": [
       "{'000': 1024}"
      ]
     },
     "execution_count": 7,
     "metadata": {},
     "output_type": "execute_result"
    }
   ],
   "source": [
    "job = sim.run(qc) # run the experiment\n",
    "result = job.result() # get the results\n",
    "result.get_counts() #interpret the results as a \"counts\" dict\n",
    "# counts dict - keys: bit-strings; values: num of times the bit-string was measured\n",
    "# repeating circuit for multiple measurements helps with \n",
    "# statistical probablilistic analysis due to randomness of quantum computer results"
   ]
  },
  {
   "cell_type": "code",
   "execution_count": 12,
   "id": "7a520a92-8b62-4738-8f8e-4bd472b6e31b",
   "metadata": {
    "tags": []
   },
   "outputs": [
    {
     "data": {
      "image/png": "[encoded data removed]",
      "text/plain": [
       "<Figure size 371.107x367.889 with 1 Axes>"
      ]
     },
     "execution_count": 12,
     "metadata": {},
     "output_type": "execute_result"
    }
   ],
   "source": [
    "# Encoding an input\n",
    "# Use NOT gate or X-gate to flip the bit value: 0 becomes 1 & vica versa\n",
    "qc = QuantumCircuit(3, 3)\n",
    "qc.x([0,1]) # Perform X-gates on qubits 1 & 0\n",
    "qc.measure([0,1,2], [0,1,2])\n",
    "qc.draw() # Returns a drawing of the circuit"
   ]
  },
  {
   "cell_type": "code",
   "execution_count": 13,
   "id": "239053ea-c117-4c52-a7f2-4bd7bd45bcac",
   "metadata": {
    "tags": []
   },
   "outputs": [
    {
     "data": {
      "text/plain": [
       "{'011': 1024}"
      ]
     },
     "execution_count": 13,
     "metadata": {},
     "output_type": "execute_result"
    }
   ],
   "source": [
    "# Simulate circuit to see the results:\n",
    "job = sim.run(qc) # run the experiment\n",
    "result = job.result() # get the results\n",
    "result.get_counts() # interpret the results as a \"counts\" dict"
   ]
  },
  {
   "cell_type": "code",
   "execution_count": 14,
   "id": "60063e8a-f907-4569-9caa-f35c3d705fe8",
   "metadata": {
    "tags": []
   },
   "outputs": [],
   "source": [
    "# Modify the code above to create a quantum circuit that encodes \n",
    "# the numbers 6 and 4. Are the results what you'd expect?"
   ]
  },
  {
   "cell_type": "code",
   "execution_count": null,
   "id": "5affb650-eef1-43af-8085-f6afaaefb63f",
   "metadata": {
    "tags": []
   },
   "outputs": [],
   "source": [
    "# Number 6 in binary: 110\n",
    "# Requires X-gate on qubits 1 & 2 aka 2 & 1\n",
    "qc = QuantumCircuit(3, 3)\n",
    "qc.x([1, 2]) # Order reverse?\n",
    "qc.measure([0,1,2], [0,1,2])\n",
    "qc.draw()"
   ]
  },
  {
   "cell_type": "code",
   "execution_count": 16,
   "id": "5892a028-20e4-41a2-9ce8-68ffbb9cb59e",
   "metadata": {
    "tags": []
   },
   "outputs": [
    {
     "data": {
      "text/plain": [
       "{'110': 1024}"
      ]
     },
     "execution_count": 16,
     "metadata": {},
     "output_type": "execute_result"
    }
   ],
   "source": [
    "# Simulate circuit to see the results:\n",
    "job = sim.run(qc) # run the experiment\n",
    "result = job.result() # get the results\n",
    "result.get_counts() # interpret the results as a \"counts\" dict"
   ]
  },
  {
   "cell_type": "code",
   "execution_count": null,
   "id": "016c2f42-ab53-416a-8ae0-20d52c420039",
   "metadata": {
    "tags": []
   },
   "outputs": [],
   "source": [
    "# Number 4 in binary: 100\n",
    "# Requires X-gate on qubit 2\n",
    "qc = QuantumCircuit(3, 3)\n",
    "qc.x([2])\n",
    "qc.measure([0,1,2], [0,1,2])\n",
    "qc.draw()"
   ]
  },
  {
   "cell_type": "code",
   "execution_count": 19,
   "id": "a516fc47-03d2-4f31-b878-250ad4b50e58",
   "metadata": {
    "tags": []
   },
   "outputs": [
    {
     "data": {
      "text/plain": [
       "{'100': 1024}"
      ]
     },
     "execution_count": 19,
     "metadata": {},
     "output_type": "execute_result"
    }
   ],
   "source": [
    "# Simulate circuit to see the results:\n",
    "job = sim.run(qc)\n",
    "result = job.result()\n",
    "result.get_counts()"
   ]
  },
  {
   "cell_type": "code",
   "execution_count": null,
   "id": "547010de-2a14-40cf-b98d-0518e8075c12",
   "metadata": {},
   "outputs": [],
   "source": []
  }
 ],
 "metadata": {
  "kernelspec": {
   "display_name": "Python 3 (ipykernel)",
   "language": "python",
   "name": "python3"
  },
  "language_info": {
   "codemirror_mode": {
    "name": "ipython",
    "version": 3
   },
   "file_extension": ".py",
   "mimetype": "text/x-python",
   "name": "python",
   "nbconvert_exporter": "python",
   "pygments_lexer": "ipython3",
   "version": "3.10.8"
  },
  "widgets": {
   "application/vnd.jupyter.widget-state+json": {
    "state": {
     "00dd708e9fef4a6c8326710a00bda334": {
      "model_module": "@jupyter-widgets/controls",
      "model_module_version": "2.0.0",
      "model_name": "HTMLModel",
      "state": {
       "layout": "IPY_MODEL_7df14bc90aff4a7981a45c60437917bb",
       "style": "IPY_MODEL_8720f0e336df41bc82b8adc21b7bb085",
       "value": "<h5>Status</h5>"
      }
     },
     "135df3734f8d4b20b1ef4d5b32714258": {
      "model_module": "@jupyter-widgets/controls",
      "model_module_version": "2.0.0",
      "model_name": "ButtonModel",
      "state": {
       "button_style": "primary",
       "description": "Clear",
       "layout": "IPY_MODEL_456aec53857549bf85e6f3893258c433",
       "style": "IPY_MODEL_e68156a46dcb4853a6fe75abb30e318b",
       "tooltip": null
      }
     },
     "1a703f36efec44438462f4a75ca17d25": {
      "model_module": "@jupyter-widgets/controls",
      "model_module_version": "2.0.0",
      "model_name": "HTMLStyleModel",
      "state": {
       "description_width": "",
       "font_size": null,
       "text_color": null
      }
     },
     "1fe910305ab04e2ea6178d918af9916b": {
      "model_module": "@jupyter-widgets/controls",
      "model_module_version": "2.0.0",
      "model_name": "HBoxModel",
      "state": {
       "children": [
        "IPY_MODEL_6f6e40cec9514b479b2d57dbc0140e25",
        "IPY_MODEL_65c695ccad764bf8854f14c733f24295",
        "IPY_MODEL_00dd708e9fef4a6c8326710a00bda334",
        "IPY_MODEL_feb4c4889fe84a77ba5aa0a780f54747",
        "IPY_MODEL_6b633f8f3e254f6e8c52628f28c35a85"
       ],
       "layout": "IPY_MODEL_ad898e90daa74c4dae602d7210535767"
      }
     },
     "25e6a2b19de1425d88bc70da35d881e5": {
      "model_module": "@jupyter-widgets/controls",
      "model_module_version": "2.0.0",
      "model_name": "HTMLStyleModel",
      "state": {
       "description_width": "",
       "font_size": null,
       "text_color": null
      }
     },
     "2a47ec2c4dc640288b94c9ebf0216c4b": {
      "model_module": "@jupyter-widgets/base",
      "model_module_version": "2.0.0",
      "model_name": "LayoutModel",
      "state": {
       "width": "70px"
      }
     },
     "450e6bb9cf9841b29c81d9481a3f5633": {
      "model_module": "@jupyter-widgets/controls",
      "model_module_version": "2.0.0",
      "model_name": "HTMLModel",
      "state": {
       "layout": "IPY_MODEL_72bba393ee104cc8b50b53fa878dae29",
       "style": "IPY_MODEL_25e6a2b19de1425d88bc70da35d881e5",
       "value": "<p style='font-family: IBM Plex Sans, Arial, Helvetica, sans-serif; font-size: 20px; font-weight: medium;'>Circuit Properties</p>"
      }
     },
     "456aec53857549bf85e6f3893258c433": {
      "model_module": "@jupyter-widgets/base",
      "model_module_version": "2.0.0",
      "model_name": "LayoutModel",
      "state": {
       "grid_area": "right",
       "padding": "0px 0px 0px 0px",
       "width": "70px"
      }
     },
     "65c695ccad764bf8854f14c733f24295": {
      "model_module": "@jupyter-widgets/controls",
      "model_module_version": "2.0.0",
      "model_name": "HTMLModel",
      "state": {
       "layout": "IPY_MODEL_91e29b698d4c4dcfa93c9145aca038de",
       "style": "IPY_MODEL_1a703f36efec44438462f4a75ca17d25",
       "value": "<h5>Backend</h5>"
      }
     },
     "6b633f8f3e254f6e8c52628f28c35a85": {
      "model_module": "@jupyter-widgets/controls",
      "model_module_version": "2.0.0",
      "model_name": "HTMLModel",
      "state": {
       "layout": "IPY_MODEL_ffa5ecd7dd7548a5ab5eae9dfb326913",
       "style": "IPY_MODEL_70a78d87bf814b0a80889e1b57225c20",
       "value": "<h5>Message</h5>"
      }
     },
     "6f6e40cec9514b479b2d57dbc0140e25": {
      "model_module": "@jupyter-widgets/controls",
      "model_module_version": "2.0.0",
      "model_name": "HTMLModel",
      "state": {
       "layout": "IPY_MODEL_c589d02571894e0b9de89946898d4970",
       "style": "IPY_MODEL_b2c7e35f46e34aefbc5ea2313048c959",
       "value": "<h5>Job ID</h5>"
      }
     },
     "70a78d87bf814b0a80889e1b57225c20": {
      "model_module": "@jupyter-widgets/controls",
      "model_module_version": "2.0.0",
      "model_name": "HTMLStyleModel",
      "state": {
       "description_width": "",
       "font_size": null,
       "text_color": null
      }
     },
     "72bba393ee104cc8b50b53fa878dae29": {
      "model_module": "@jupyter-widgets/base",
      "model_module_version": "2.0.0",
      "model_name": "LayoutModel",
      "state": {
       "margin": "0px 0px 10px 0px"
      }
     },
     "7df14bc90aff4a7981a45c60437917bb": {
      "model_module": "@jupyter-widgets/base",
      "model_module_version": "2.0.0",
      "model_name": "LayoutModel",
      "state": {
       "width": "95px"
      }
     },
     "843e0b78e69141c1b3526bd4a65f1650": {
      "model_module": "@jupyter-widgets/controls",
      "model_module_version": "2.0.0",
      "model_name": "GridBoxModel",
      "state": {
       "children": [
        "IPY_MODEL_135df3734f8d4b20b1ef4d5b32714258"
       ],
       "layout": "IPY_MODEL_aa6ae3aedee445c7b081750ee4744d86"
      }
     },
     "8720f0e336df41bc82b8adc21b7bb085": {
      "model_module": "@jupyter-widgets/controls",
      "model_module_version": "2.0.0",
      "model_name": "HTMLStyleModel",
      "state": {
       "description_width": "",
       "font_size": null,
       "text_color": null
      }
     },
     "91e29b698d4c4dcfa93c9145aca038de": {
      "model_module": "@jupyter-widgets/base",
      "model_module_version": "2.0.0",
      "model_name": "LayoutModel",
      "state": {
       "width": "145px"
      }
     },
     "aa6ae3aedee445c7b081750ee4744d86": {
      "model_module": "@jupyter-widgets/base",
      "model_module_version": "2.0.0",
      "model_name": "LayoutModel",
      "state": {
       "grid_template_areas": "\n                                       \". . . . right \"\n                                        ",
       "grid_template_columns": "20% 20% 20% 20% 20%",
       "width": "100%"
      }
     },
     "ad898e90daa74c4dae602d7210535767": {
      "model_module": "@jupyter-widgets/base",
      "model_module_version": "2.0.0",
      "model_name": "LayoutModel",
      "state": {
       "margin": "0px 0px 0px 37px",
       "width": "600px"
      }
     },
     "b2c7e35f46e34aefbc5ea2313048c959": {
      "model_module": "@jupyter-widgets/controls",
      "model_module_version": "2.0.0",
      "model_name": "HTMLStyleModel",
      "state": {
       "description_width": "",
       "font_size": null,
       "text_color": null
      }
     },
     "c589d02571894e0b9de89946898d4970": {
      "model_module": "@jupyter-widgets/base",
      "model_module_version": "2.0.0",
      "model_name": "LayoutModel",
      "state": {
       "width": "190px"
      }
     },
     "e68156a46dcb4853a6fe75abb30e318b": {
      "model_module": "@jupyter-widgets/controls",
      "model_module_version": "2.0.0",
      "model_name": "ButtonStyleModel",
      "state": {
       "font_family": null,
       "font_size": null,
       "font_style": null,
       "font_variant": null,
       "font_weight": null,
       "text_color": null,
       "text_decoration": null
      }
     },
     "f217d9574488486bb7753b6ce16a0ed5": {
      "model_module": "@jupyter-widgets/controls",
      "model_module_version": "2.0.0",
      "model_name": "HTMLStyleModel",
      "state": {
       "description_width": "",
       "font_size": null,
       "text_color": null
      }
     },
     "feb4c4889fe84a77ba5aa0a780f54747": {
      "model_module": "@jupyter-widgets/controls",
      "model_module_version": "2.0.0",
      "model_name": "HTMLModel",
      "state": {
       "layout": "IPY_MODEL_2a47ec2c4dc640288b94c9ebf0216c4b",
       "style": "IPY_MODEL_f217d9574488486bb7753b6ce16a0ed5",
       "value": "<h5>Queue</h5>"
      }
     },
     "ffa5ecd7dd7548a5ab5eae9dfb326913": {
      "model_module": "@jupyter-widgets/base",
      "model_module_version": "2.0.0",
      "model_name": "LayoutModel",
      "state": {}
     }
    },
    "version_major": 2,
    "version_minor": 0
   }
  }
 },
 "nbformat": 4,
 "nbformat_minor": 5
}
