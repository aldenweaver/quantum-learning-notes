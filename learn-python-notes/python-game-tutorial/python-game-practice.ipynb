{
 "cells": [
  {
   "cell_type": "code",
   "execution_count": null,
   "metadata": {},
   "outputs": [],
   "source": [
    "print(\"What is your name?\")\n",
    "\n",
    "print(\"What game do you want to play?\")\n",
    "\n",
    "player = \"David\"\n",
    "\n",
    "print(player)\n",
    "\n",
    "player = \"Banana\"\n",
    "\n",
    "print(player)\n",
    "\n",
    "player_choice = \"1\"\n",
    "\n",
    "  \n",
    "def troll(player_choice):\n",
    "  if(player_choice == \"1\"):\n",
    "    print(\"You chose to attack the troll. He defeats you.\")\n",
    "  if(player_choice == \"2\"):\n",
    "    print(\"You chose to befriend the troll. He betrays you.\")\n",
    "  if(player_choice == \"3\"):\n",
    "    print(\"You chose to trick the troll. You escape him.\")\n",
    "    \n",
    "troll(player_choice)\n",
    "troll(\"2\")\n",
    "troll(\"frog\")"
   ]
  }
 ],
 "metadata": {
  "language_info": {
   "name": "python"
  }
 },
 "nbformat": 4,
 "nbformat_minor": 2
}
